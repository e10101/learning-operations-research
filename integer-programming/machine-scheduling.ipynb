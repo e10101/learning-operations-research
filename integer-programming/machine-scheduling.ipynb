{
 "cells": [
  {
   "cell_type": "markdown",
   "id": "a4ca0a12-d84a-428a-9fdf-14328c1b4e1b",
   "metadata": {},
   "source": [
    "<div style=\"width: 100%; margin: 0 auto;\">\n",
    "    <a href=\"https://github.com/e10101/learning-operations-research\">\n",
    "        <img src=\"../assets/banner.svg\" alt=\"Learning Operations Research\" style=\"width: 100%; height: auto; display: block;\">\n",
    "    </a>\n",
    "</div>\n",
    "\n",
    "# Integer Programming - Machine Scheduling\n",
    "\n",
    "---\n",
    "\n",
    "[![Github](../assets/badges/github.svg)](https://github.com/e10101/learning-operations-research)\n"
   ]
  },
  {
   "cell_type": "markdown",
   "id": "33a3c026-698e-4fcb-b2e6-8f77e6367aab",
   "metadata": {},
   "source": [
    "## Problem\n",
    "\n",
    "### Problem Details\n",
    "\n",
    "We need to schedule 4 jobs on a single machine. The processing time (in days) required for each job and its corresponding due date are listed below:\n",
    "\n",
    "| Job | Processing Time (Days) | Due Date      |\n",
    "| --- | ---------------------- | ------------- |\n",
    "| 1   | 6                      | End of day 8  |\n",
    "| 2   | 4                      | End of day 4  |\n",
    "| 3   | 5                      | End of day 12 |\n",
    "| 4   | 8                      | End of day 16 |\n",
    "\n",
    "The objective is to find the sequence for processing these jobs that minimizes the total delay.\n",
    "\n",
    "\n",
    "\n",
    "### Source\n",
    "\n",
    "This problem is adapted from:\n",
    "\n",
    "Winston, W.L. (2004). *Operations Research Applications and Algorithms* (4th ed.). Duxbury Press, Pacific Grove, CA. (Chapter 9: Integer Programming, p. 528).\n"
   ]
  },
  {
   "cell_type": "markdown",
   "id": "884229fa-9506-4f60-bb91-052aca08f545",
   "metadata": {},
   "source": [
    "## Create Model"
   ]
  },
  {
   "cell_type": "code",
   "execution_count": 1,
   "id": "655a627a-d064-49cd-8a19-c6aa6c37c577",
   "metadata": {},
   "outputs": [],
   "source": [
    "import gurobipy as gp"
   ]
  },
  {
   "cell_type": "code",
   "execution_count": 2,
   "id": "f9e7e965-54f5-4dd3-9670-704ea8658751",
   "metadata": {},
   "outputs": [
    {
     "name": "stdout",
     "output_type": "stream",
     "text": [
      "Restricted license - for non-production use only - expires 2026-11-23\n"
     ]
    }
   ],
   "source": [
    "m = gp.Model(\"Machine Scheduling\")"
   ]
  },
  {
   "cell_type": "markdown",
   "id": "91ad715c-8758-47cf-95af-78838beff68d",
   "metadata": {},
   "source": [
    "## Create Variables"
   ]
  },
  {
   "cell_type": "code",
   "execution_count": 4,
   "id": "dca19373-7694-40b1-8f7c-9921201ddd42",
   "metadata": {},
   "outputs": [],
   "source": [
    "JOBS = 4\n",
    "QUEUES = 4"
   ]
  },
  {
   "cell_type": "code",
   "execution_count": 5,
   "id": "28a8bd88-cd77-4ba0-ba9c-b849990a940e",
   "metadata": {},
   "outputs": [],
   "source": [
    "X = m.addVars(JOBS, QUEUES, vtype=gp.GRB.BINARY, name=\"X\")"
   ]
  },
  {
   "cell_type": "code",
   "execution_count": 6,
   "id": "59bade63-12dd-4a97-8baf-e488b267717f",
   "metadata": {},
   "outputs": [],
   "source": [
    "C = m.addVars(QUEUES, vtype=gp.GRB.INTEGER, name=\"C\")"
   ]
  },
  {
   "cell_type": "code",
   "execution_count": 7,
   "id": "7fede896-2db1-4c64-b92f-fde1236f3a63",
   "metadata": {},
   "outputs": [],
   "source": [
    "T = m.addVars(JOBS, vtype=gp.GRB.INTEGER, name=\"T\")"
   ]
  },
  {
   "cell_type": "markdown",
   "id": "c189484f-e600-42fe-885f-5626345c6eb0",
   "metadata": {},
   "source": [
    "## Create Constraints"
   ]
  },
  {
   "cell_type": "code",
   "execution_count": 9,
   "id": "279c4aed-daa3-40d5-a8d5-a46aff5322e6",
   "metadata": {},
   "outputs": [],
   "source": [
    "for i in range(JOBS):\n",
    "    m.addConstr(sum([X[i, j] for j in range(QUEUES)]) == 1, name=f\"job_{i}\")"
   ]
  },
  {
   "cell_type": "code",
   "execution_count": 10,
   "id": "93a20492-c9a2-480f-a9a7-299d079f1e24",
   "metadata": {},
   "outputs": [],
   "source": [
    "for j in range(QUEUES):\n",
    "    m.addConstr(sum([X[i, j] for i in range(JOBS)]) == 1, name=f\"queue_{j}\")"
   ]
  },
  {
   "cell_type": "code",
   "execution_count": 11,
   "id": "352ea81a-7388-4cc6-8287-e4792614e1e6",
   "metadata": {},
   "outputs": [],
   "source": [
    "P = [6, 4, 5, 8]"
   ]
  },
  {
   "cell_type": "code",
   "execution_count": 12,
   "id": "bf8147f5-f637-4e09-92ce-32347b33e1ba",
   "metadata": {},
   "outputs": [],
   "source": [
    "for j in range(QUEUES):\n",
    "    p_sum = sum([X[i, j] * P[i] for i in range(JOBS)])\n",
    "\n",
    "    if j == 0:\n",
    "        m.addConstr(p_sum == C[j], name=f\"C_{j}\")\n",
    "    else:\n",
    "        m.addConstr(C[j-1] + p_sum == C[j], name=f\"C_{j}\")"
   ]
  },
  {
   "cell_type": "code",
   "execution_count": 13,
   "id": "9ca3586b-69ce-4b7d-8e0a-fefbe7aac856",
   "metadata": {},
   "outputs": [],
   "source": [
    "D = [8, 4, 12, 16]"
   ]
  },
  {
   "cell_type": "code",
   "execution_count": 14,
   "id": "609acf77-7f57-4608-80d3-73f2e06ab35d",
   "metadata": {},
   "outputs": [],
   "source": [
    "M = sum(P)"
   ]
  },
  {
   "cell_type": "code",
   "execution_count": 15,
   "id": "5a187349-130a-497c-afbd-f3327db18b3e",
   "metadata": {},
   "outputs": [],
   "source": [
    "for i in range(JOBS):\n",
    "    for j in range(QUEUES):\n",
    "        m.addConstr(T[i] >= C[j] - D[i] - M * (1 - X[i, j]), name=f\"T_{i}_{j}\")"
   ]
  },
  {
   "cell_type": "markdown",
   "id": "bd7719e1-02ab-4444-8604-223190c61b55",
   "metadata": {},
   "source": [
    "## Set Objective"
   ]
  },
  {
   "cell_type": "code",
   "execution_count": 16,
   "id": "3b88992c-15ca-4ffb-9e9c-4b5bf41fb5f2",
   "metadata": {},
   "outputs": [],
   "source": [
    "m.setObjective(sum([T[i] for i in range(JOBS)]), sense=gp.GRB.MINIMIZE)"
   ]
  },
  {
   "cell_type": "markdown",
   "id": "6fe2273f-bf85-4640-b460-9acd95cbe35c",
   "metadata": {},
   "source": [
    "## Solve"
   ]
  },
  {
   "cell_type": "code",
   "execution_count": 17,
   "id": "a6d8ef40-2e2c-47e0-bf81-43172b9cb736",
   "metadata": {},
   "outputs": [
    {
     "name": "stdout",
     "output_type": "stream",
     "text": [
      "Gurobi Optimizer version 12.0.1 build v12.0.1rc0 (armlinux64 - \"Debian GNU/Linux 11 (bullseye)\")\n",
      "\n",
      "CPU model: ARM64\n",
      "Thread count: 12 physical cores, 12 logical processors, using up to 12 threads\n",
      "\n",
      "Optimize a model with 28 rows, 24 columns and 103 nonzeros\n",
      "Model fingerprint: 0x6dc8262d\n",
      "Variable types: 0 continuous, 24 integer (16 binary)\n",
      "Coefficient statistics:\n",
      "  Matrix range     [1e+00, 2e+01]\n",
      "  Objective range  [1e+00, 1e+00]\n",
      "  Bounds range     [1e+00, 1e+00]\n",
      "  RHS range        [1e+00, 4e+01]\n",
      "Found heuristic solution: objective 14.0000000\n",
      "Presolve removed 11 rows and 6 columns\n",
      "Presolve time: 0.00s\n",
      "Presolved: 17 rows, 18 columns, 61 nonzeros\n",
      "Variable types: 0 continuous, 18 integer (13 binary)\n",
      "\n",
      "Root relaxation: objective 8.457143e+00, 12 iterations, 0.00 seconds (0.00 work units)\n",
      "\n",
      "    Nodes    |    Current Node    |     Objective Bounds      |     Work\n",
      " Expl Unexpl |  Obj  Depth IntInf | Incumbent    BestBd   Gap | It/Node Time\n",
      "\n",
      "     0     0    8.45714    0   11   14.00000    8.45714  39.6%     -    0s\n",
      "*    0     0               0      12.0000000   12.00000  0.00%     -    0s\n",
      "\n",
      "Explored 1 nodes (16 simplex iterations) in 0.02 seconds (0.00 work units)\n",
      "Thread count was 12 (of 12 available processors)\n",
      "\n",
      "Solution count 2: 12 14 \n",
      "\n",
      "Optimal solution found (tolerance 1.00e-04)\n",
      "Best objective 1.200000000000e+01, best bound 1.200000000000e+01, gap 0.0000%\n"
     ]
    }
   ],
   "source": [
    "m.optimize()"
   ]
  },
  {
   "cell_type": "markdown",
   "id": "5366408f-0c3e-4595-99d1-dd9e990a74e1",
   "metadata": {},
   "source": [
    "## Result"
   ]
  },
  {
   "cell_type": "code",
   "execution_count": 18,
   "id": "bed00de0-5260-4eac-9df0-561d1209da78",
   "metadata": {},
   "outputs": [
    {
     "data": {
      "text/plain": [
       "[<gurobi.Var X[0,0] (value 0.0)>,\n",
       " <gurobi.Var X[0,1] (value 1.0)>,\n",
       " <gurobi.Var X[0,2] (value 0.0)>,\n",
       " <gurobi.Var X[0,3] (value 0.0)>,\n",
       " <gurobi.Var X[1,0] (value 1.0)>,\n",
       " <gurobi.Var X[1,1] (value 0.0)>,\n",
       " <gurobi.Var X[1,2] (value -0.0)>,\n",
       " <gurobi.Var X[1,3] (value 0.0)>,\n",
       " <gurobi.Var X[2,0] (value 0.0)>,\n",
       " <gurobi.Var X[2,1] (value -0.0)>,\n",
       " <gurobi.Var X[2,2] (value 1.0)>,\n",
       " <gurobi.Var X[2,3] (value -0.0)>,\n",
       " <gurobi.Var X[3,0] (value -0.0)>,\n",
       " <gurobi.Var X[3,1] (value -0.0)>,\n",
       " <gurobi.Var X[3,2] (value 0.0)>,\n",
       " <gurobi.Var X[3,3] (value 1.0)>,\n",
       " <gurobi.Var C[0] (value 4.0)>,\n",
       " <gurobi.Var C[1] (value 10.0)>,\n",
       " <gurobi.Var C[2] (value 15.0)>,\n",
       " <gurobi.Var C[3] (value 23.0)>,\n",
       " <gurobi.Var T[0] (value 2.0)>,\n",
       " <gurobi.Var T[1] (value -0.0)>,\n",
       " <gurobi.Var T[2] (value 3.0)>,\n",
       " <gurobi.Var T[3] (value 7.0)>]"
      ]
     },
     "execution_count": 18,
     "metadata": {},
     "output_type": "execute_result"
    }
   ],
   "source": [
    "m.getVars()"
   ]
  },
  {
   "cell_type": "code",
   "execution_count": 19,
   "id": "05803f08-2322-4ad3-864f-2a0aeea101b0",
   "metadata": {},
   "outputs": [
    {
     "data": {
      "text/plain": [
       "12.0"
      ]
     },
     "execution_count": 19,
     "metadata": {},
     "output_type": "execute_result"
    }
   ],
   "source": [
    "m.objVal"
   ]
  }
 ],
 "metadata": {
  "kernelspec": {
   "display_name": "Python 3 (ipykernel)",
   "language": "python",
   "name": "python3"
  },
  "language_info": {
   "codemirror_mode": {
    "name": "ipython",
    "version": 3
   },
   "file_extension": ".py",
   "mimetype": "text/x-python",
   "name": "python",
   "nbconvert_exporter": "python",
   "pygments_lexer": "ipython3",
   "version": "3.10.16"
  }
 },
 "nbformat": 4,
 "nbformat_minor": 5
}
