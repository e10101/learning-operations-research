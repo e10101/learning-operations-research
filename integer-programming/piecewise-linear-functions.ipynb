{
 "cells": [
  {
   "cell_type": "markdown",
   "id": "fad0be1b-f899-4fe3-8026-febc548f9a53",
   "metadata": {},
   "source": [
    "<div style=\"width: 100%; margin: 0 auto;\">\n",
    "    <a href=\"https://github.com/e10101/learning-operations-research\">\n",
    "        <img src=\"../assets/banner.svg\" alt=\"Learning Operations Research\" style=\"width: 100%; height: auto; display: block;\">\n",
    "    </a>\n",
    "</div>\n",
    "\n",
    "# Integer Programming - Media Selection with Piecewise Linear Functions\n",
    "---\n",
    "\n",
    "[![Github](../assets/badges/github.svg)](https://github.com/e10101/learning-operations-research)\n"
   ]
  },
  {
   "cell_type": "markdown",
   "id": "3e74dea9-5de4-408c-9077-608a181e7769",
   "metadata": {},
   "source": [
    "## Problem\n",
    "\n",
    "### Problem Details\n",
    "\n",
    "Dorian Auto has a budget to purchase full-page ads in two magazines, Inside Jocks (IJ) and Family Square (FS), to maximize total advertising exposures. \n",
    "\n",
    "The number of exposures generated per ad is not constant but depends on the total number of ads placed in that specific magazine.\n",
    "\n",
    "### Parameters\n",
    "\n",
    "These are the given constant values and rates in the problem.\n",
    "\n",
    "- **Total Advertising Budget**: 20,000 \n",
    "- **Cost per full-page ad**: 1,000 (for both magazines)\n",
    "- **Exposure rates for Inside Jocks (IJ)**: The number of exposures generated *per ad* depends on the total number of ads (n) placed in IJ.\n",
    "    - 10,000 exposures/ad for 1 ≤ n ≤ 6 ads\n",
    "    - 3,000 exposures/ad for 7 ≤ n ≤ 10 ads\n",
    "    - 2,500 exposures/ad for 11 ≤ n ≤ 15 ads\n",
    "    - 0 exposures/ad for n ≥ 16 ads\n",
    "- **Exposure rates for Family Square (FS)**: The number of exposures generated *per ad* depends on the total number of ads (n) placed in FS.\n",
    "    - 8,000 exposures/ad for 1 ≤ n ≤ 4 ads\n",
    "    - 6,000 exposures/ad for 5 ≤ n ≤ 12 ads\n",
    "    - 2,000 exposures/ad for 13 ≤ n ≤ 15 ads\n",
    "    - 0 exposures/ad for n ≥ 16 ads\n",
    "\n",
    "### Objective\n",
    "\n",
    "Maximize the total number of advertising exposures obtained from purchasing ads in both magazines.\n",
    "\n",
    "### Source\n",
    "\n",
    "This problem is adapted from:\n",
    "\n",
    "Winston, W.L. (2004). *Operations Research Applications and Algorithms* (4th ed.). Duxbury Press, Pacific Grove, CA. (Chapter 9: Integer Programming, p. 494)."
   ]
  },
  {
   "cell_type": "markdown",
   "id": "b7bafea7-75c3-4cea-8553-cd64706b5bf7",
   "metadata": {},
   "source": [
    "## Create Model"
   ]
  },
  {
   "cell_type": "code",
   "execution_count": 95,
   "id": "c3025f55-62aa-40cf-b919-52e7e1a929ca",
   "metadata": {},
   "outputs": [],
   "source": [
    "import gurobipy as gp"
   ]
  },
  {
   "cell_type": "code",
   "execution_count": 96,
   "id": "8a918eda-1f3f-40a6-a403-39a7fd5a1418",
   "metadata": {},
   "outputs": [],
   "source": [
    "m = gp.Model(\"Piecewise-Linear Functions\")"
   ]
  },
  {
   "cell_type": "markdown",
   "id": "308e0533-e7dc-42d7-b80b-cf7141e2c74a",
   "metadata": {},
   "source": [
    "## Create Variables"
   ]
  },
  {
   "cell_type": "code",
   "execution_count": 97,
   "id": "d34330c2-341f-4895-b25c-f99dab17f291",
   "metadata": {},
   "outputs": [],
   "source": [
    "BREAKS = 5\n",
    "MEDIAS = 2"
   ]
  },
  {
   "cell_type": "code",
   "execution_count": 98,
   "id": "43167408-a143-4f70-8d68-ac75cdd440cb",
   "metadata": {},
   "outputs": [],
   "source": [
    "X = m.addVars(MEDIAS, vtype=gp.GRB.INTEGER, lb=0, name=\"ads\")"
   ]
  },
  {
   "cell_type": "code",
   "execution_count": 99,
   "id": "c8c1091c-b818-49fe-86a7-b299bebeb5c9",
   "metadata": {},
   "outputs": [],
   "source": [
    "Z = m.addVars(MEDIAS, BREAKS, vtype=gp.GRB.CONTINUOUS, lb=0, name=\"z\")"
   ]
  },
  {
   "cell_type": "code",
   "execution_count": 100,
   "id": "8cdbb5cd-02c7-41e5-8c3b-ab52575ccf03",
   "metadata": {},
   "outputs": [],
   "source": [
    "Y = m.addVars(MEDIAS, BREAKS-1, vtype=gp.GRB.BINARY, lb=0, name=\"y\")"
   ]
  },
  {
   "cell_type": "markdown",
   "id": "a97a4843-f778-4a6d-a298-83f514231857",
   "metadata": {},
   "source": [
    "## Create Constraints"
   ]
  },
  {
   "cell_type": "code",
   "execution_count": 101,
   "id": "36e9b808-2674-4756-b757-a823da77310a",
   "metadata": {},
   "outputs": [],
   "source": [
    "# X\n",
    "BREAK_POINTS = [\n",
    "    [0, 6, 10, 15, 20],\n",
    "    [0, 4, 12, 15, 20],\n",
    "]\n",
    "\n",
    "for i in range(MEDIAS):\n",
    "    m.addConstr(sum([Z[i, j] * BREAK_POINTS[i][j] for j in range(BREAKS)]) == X[i], name=f\"x_{i}_{j}\")"
   ]
  },
  {
   "cell_type": "code",
   "execution_count": 102,
   "id": "01061eee-de35-41fd-aa2a-cb4b3f97d744",
   "metadata": {},
   "outputs": [],
   "source": [
    "# Z\n",
    "for i in range(MEDIAS):\n",
    "    m.addConstr(sum([Z[i, j] for j in range(BREAKS)]) == 1, name=f\"z_{i}\")"
   ]
  },
  {
   "cell_type": "code",
   "execution_count": 103,
   "id": "7029db58-343c-4013-abfd-6fb06e211fd0",
   "metadata": {},
   "outputs": [],
   "source": [
    "# Y\n",
    "for i in range(MEDIAS):\n",
    "    m.addConstr(sum([Y[i, j] for j in range(BREAKS-1)]) == 1, name=f\"y_{i}\")"
   ]
  },
  {
   "cell_type": "code",
   "execution_count": 104,
   "id": "082e1f26-b1e0-4ac1-8fa2-1fad307a8e04",
   "metadata": {},
   "outputs": [],
   "source": [
    "# Z+Y\n",
    "\n",
    "for i in range(MEDIAS):\n",
    "    for j in range(BREAKS):\n",
    "        if j == 0:\n",
    "            m.addConstr(Z[i, j] <= Y[i, j], name=f\"z_y_{i}_{j}\")\n",
    "        elif j == BREAKS - 1:\n",
    "            m.addConstr(Z[i, j] <= Y[i, j-1], name=f\"z_y_{i}_{j}\")\n",
    "        else:\n",
    "            m.addConstr(Z[i, j] <= Y[i, j-1] + Y[i, j], name=f\"z_y_{i}_{j}\")"
   ]
  },
  {
   "cell_type": "code",
   "execution_count": 105,
   "id": "0630ce53-7701-4b16-bb05-f0e060b74b58",
   "metadata": {},
   "outputs": [
    {
     "data": {
      "text/plain": [
       "<gurobi.Constr *Awaiting Model Update*>"
      ]
     },
     "execution_count": 105,
     "metadata": {},
     "output_type": "execute_result"
    }
   ],
   "source": [
    "# Budget\n",
    "BUDGET = 20_000\n",
    "PAGE_COST = 1_000\n",
    "\n",
    "m.addConstr(sum([X[i] * PAGE_COST for i in range(MEDIAS)]) <= BUDGET, name=\"budget\")"
   ]
  },
  {
   "cell_type": "markdown",
   "id": "c1a73b76-6253-4f6a-9756-8d324c91d8d0",
   "metadata": {},
   "source": [
    "## Set Objective"
   ]
  },
  {
   "cell_type": "code",
   "execution_count": 106,
   "id": "40567f65-9af6-4be5-844d-ed3471e0d439",
   "metadata": {},
   "outputs": [],
   "source": [
    "EXPOSURES = [\n",
    "    [\n",
    "        0,\n",
    "        60_000,\n",
    "        72_000,\n",
    "        84_500,\n",
    "        84_500,\n",
    "    ],\n",
    "    [\n",
    "        0,\n",
    "        32_000,\n",
    "        80_000,\n",
    "        86_000,\n",
    "        86_000,\n",
    "    ],\n",
    "]"
   ]
  },
  {
   "cell_type": "code",
   "execution_count": 107,
   "id": "d014eb73-6a1c-4ee8-af00-7ff5c21f407b",
   "metadata": {},
   "outputs": [],
   "source": [
    "# Obj\n",
    "m.setObjective(sum([EXPOSURES[i][j] * Z[i, j] for j in range(BREAKS) for i in range(MEDIAS)]), sense=gp.GRB.MAXIMIZE)"
   ]
  },
  {
   "cell_type": "markdown",
   "id": "b6047b16-c597-4826-b689-6ed4cc87ed87",
   "metadata": {},
   "source": [
    "## Solve"
   ]
  },
  {
   "cell_type": "code",
   "execution_count": 108,
   "id": "181cfbfb-b571-4da1-9693-c47b536ad5a7",
   "metadata": {},
   "outputs": [
    {
     "name": "stdout",
     "output_type": "stream",
     "text": [
      "Gurobi Optimizer version 12.0.1 build v12.0.1rc0 (armlinux64 - \"Debian GNU/Linux 11 (bullseye)\")\n",
      "\n",
      "CPU model: ARM64\n",
      "Thread count: 12 physical cores, 12 logical processors, using up to 12 threads\n",
      "\n",
      "Optimize a model with 17 rows, 20 columns and 56 nonzeros\n",
      "Model fingerprint: 0xbc25bbb8\n",
      "Variable types: 10 continuous, 10 integer (8 binary)\n",
      "Coefficient statistics:\n",
      "  Matrix range     [1e+00, 1e+03]\n",
      "  Objective range  [3e+04, 9e+04]\n",
      "  Bounds range     [1e+00, 1e+00]\n",
      "  RHS range        [1e+00, 2e+04]\n",
      "Presolve removed 2 rows and 2 columns\n",
      "Presolve time: 0.00s\n",
      "Presolved: 15 rows, 18 columns, 52 nonzeros\n",
      "Variable types: 10 continuous, 8 integer (6 binary)\n",
      "Found heuristic solution: objective -0.0000000\n",
      "\n",
      "Root relaxation: objective 1.460000e+05, 8 iterations, 0.00 seconds (0.00 work units)\n",
      "\n",
      "    Nodes    |    Current Node    |     Objective Bounds      |     Work\n",
      " Expl Unexpl |  Obj  Depth IntInf | Incumbent    BestBd   Gap | It/Node Time\n",
      "\n",
      "*    0     0               0    146000.00000 146000.000  0.00%     -    0s\n",
      "\n",
      "Explored 1 nodes (8 simplex iterations) in 0.01 seconds (0.00 work units)\n",
      "Thread count was 12 (of 12 available processors)\n",
      "\n",
      "Solution count 2: 146000 -0 \n",
      "\n",
      "Optimal solution found (tolerance 1.00e-04)\n",
      "Best objective 1.460000000000e+05, best bound 1.460000000000e+05, gap 0.0000%\n"
     ]
    }
   ],
   "source": [
    "m.optimize()"
   ]
  },
  {
   "cell_type": "markdown",
   "id": "e18547f1-f510-4ebd-b84f-0a886e94f608",
   "metadata": {},
   "source": [
    "## Result"
   ]
  },
  {
   "cell_type": "code",
   "execution_count": 109,
   "id": "e87de484-16da-4450-82f0-33c19caab6a9",
   "metadata": {},
   "outputs": [
    {
     "data": {
      "text/plain": [
       "146000.0"
      ]
     },
     "execution_count": 109,
     "metadata": {},
     "output_type": "execute_result"
    }
   ],
   "source": [
    "m.objVal"
   ]
  },
  {
   "cell_type": "code",
   "execution_count": 110,
   "id": "dbf576b7-20cd-4f17-9281-61c9fe8abc00",
   "metadata": {},
   "outputs": [
    {
     "data": {
      "text/plain": [
       "[<gurobi.Var ads[0] (value 8.0)>,\n",
       " <gurobi.Var ads[1] (value 12.0)>,\n",
       " <gurobi.Var z[0,0] (value 0.0)>,\n",
       " <gurobi.Var z[0,1] (value 0.5)>,\n",
       " <gurobi.Var z[0,2] (value 0.5)>,\n",
       " <gurobi.Var z[0,3] (value 0.0)>,\n",
       " <gurobi.Var z[0,4] (value 0.0)>,\n",
       " <gurobi.Var z[1,0] (value 0.0)>,\n",
       " <gurobi.Var z[1,1] (value 0.0)>,\n",
       " <gurobi.Var z[1,2] (value 1.0)>,\n",
       " <gurobi.Var z[1,3] (value 0.0)>,\n",
       " <gurobi.Var z[1,4] (value 0.0)>,\n",
       " <gurobi.Var y[0,0] (value 0.0)>,\n",
       " <gurobi.Var y[0,1] (value 1.0)>,\n",
       " <gurobi.Var y[0,2] (value -0.0)>,\n",
       " <gurobi.Var y[0,3] (value 0.0)>,\n",
       " <gurobi.Var y[1,0] (value 0.0)>,\n",
       " <gurobi.Var y[1,1] (value 1.0)>,\n",
       " <gurobi.Var y[1,2] (value -0.0)>,\n",
       " <gurobi.Var y[1,3] (value 0.0)>]"
      ]
     },
     "execution_count": 110,
     "metadata": {},
     "output_type": "execute_result"
    }
   ],
   "source": [
    "m.getVars()"
   ]
  },
  {
   "cell_type": "code",
   "execution_count": 111,
   "id": "e8e961bd-ee07-48c7-a139-588eaf9aac4b",
   "metadata": {},
   "outputs": [
    {
     "name": "stdout",
     "output_type": "stream",
     "text": [
      "<gurobi.Constr x_0_4> 0.0\n",
      "<gurobi.Constr x_1_4> 0.0\n",
      "<gurobi.Constr z_0> 0.0\n",
      "<gurobi.Constr z_1> 0.0\n",
      "<gurobi.Constr y_0> 0.0\n",
      "<gurobi.Constr y_1> 0.0\n",
      "<gurobi.Constr z_y_0_0> 0.0\n",
      "<gurobi.Constr z_y_0_1> 0.5\n",
      "<gurobi.Constr z_y_0_2> 0.5\n",
      "<gurobi.Constr z_y_0_3> 0.0\n",
      "<gurobi.Constr z_y_0_4> 0.0\n",
      "<gurobi.Constr z_y_1_0> 0.0\n",
      "<gurobi.Constr z_y_1_1> 1.0\n",
      "<gurobi.Constr z_y_1_2> 0.0\n",
      "<gurobi.Constr z_y_1_3> 0.0\n",
      "<gurobi.Constr z_y_1_4> 0.0\n",
      "<gurobi.Constr budget> 0.0\n"
     ]
    }
   ],
   "source": [
    "for c in m.getConstrs():\n",
    "    print(c, c.Slack)"
   ]
  },
  {
   "cell_type": "code",
   "execution_count": null,
   "id": "91c143bd-4069-472b-8338-af036e689dec",
   "metadata": {},
   "outputs": [],
   "source": []
  }
 ],
 "metadata": {
  "kernelspec": {
   "display_name": "Python 3 (ipykernel)",
   "language": "python",
   "name": "python3"
  },
  "language_info": {
   "codemirror_mode": {
    "name": "ipython",
    "version": 3
   },
   "file_extension": ".py",
   "mimetype": "text/x-python",
   "name": "python",
   "nbconvert_exporter": "python",
   "pygments_lexer": "ipython3",
   "version": "3.10.16"
  }
 },
 "nbformat": 4,
 "nbformat_minor": 5
}
