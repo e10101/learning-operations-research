{
 "cells": [
  {
   "cell_type": "markdown",
   "id": "cfeafedd-3413-40aa-9a94-e1988a0dc9d6",
   "metadata": {},
   "source": [
    "<div style=\"width: 100%; margin: 0 auto;\">\n",
    "    <a href=\"https://github.com/e10101/learning-operations-research\">\n",
    "        <img src=\"../assets/banner.svg\" alt=\"Learning Operations Research\" style=\"width: 100%; height: auto; display: block;\">\n",
    "    </a>\n",
    "</div>\n",
    "\n",
    "# Integer Programming - Set-Covering Problems\n",
    "---\n",
    "\n",
    "[![Github](../assets/badges/github.svg)](https://github.com/e10101/learning-operations-research)\n"
   ]
  },
  {
   "cell_type": "markdown",
   "id": "16241f33-2da2-47fd-b23f-a080ed9ece6c",
   "metadata": {},
   "source": [
    "## Problem"
   ]
  },
  {
   "cell_type": "code",
   "execution_count": 2,
   "id": "79647330-2563-4ff9-b557-4cff3213fb53",
   "metadata": {},
   "outputs": [],
   "source": [
    "dist = [\n",
    "    [0, 10, 35, 20, 15, 30],\n",
    "    [10, 0, 5, 18, 25, 35],\n",
    "    [35, 5, 0, 10, 35, 10],\n",
    "    [20, 18, 10, 0, 20, 15],\n",
    "    [15, 25, 35, 20, 0, 10],\n",
    "    [30, 35, 10, 15, 10, 0],\n",
    "]"
   ]
  },
  {
   "cell_type": "markdown",
   "id": "b8b4fdf0-3ed1-416c-9def-f57a6e2d9d72",
   "metadata": {},
   "source": [
    "## Create Model"
   ]
  },
  {
   "cell_type": "code",
   "execution_count": 22,
   "id": "d5b58a6a-90e2-40e2-8218-34948780195f",
   "metadata": {},
   "outputs": [],
   "source": [
    "import gurobipy as gp"
   ]
  },
  {
   "cell_type": "code",
   "execution_count": 23,
   "id": "5183a698-d71c-40ac-9d8e-6b2f5f48d98f",
   "metadata": {},
   "outputs": [],
   "source": [
    "m = gp.Model(\"Set-Covering Problems\")"
   ]
  },
  {
   "cell_type": "markdown",
   "id": "3845b4f8-b5db-4f79-9227-da1a314453eb",
   "metadata": {},
   "source": [
    "## Create Variables"
   ]
  },
  {
   "cell_type": "code",
   "execution_count": 24,
   "id": "b0797a93-4cd6-4773-9de0-07ecec6c4bca",
   "metadata": {},
   "outputs": [],
   "source": [
    "X = m.addVars(len(dist), vtype=gp.GRB.BINARY, name=\"cities\")"
   ]
  },
  {
   "cell_type": "markdown",
   "id": "e7e9e1d2-b20b-46d2-b1ab-078d200b2545",
   "metadata": {},
   "source": [
    "## Create Constraints"
   ]
  },
  {
   "cell_type": "code",
   "execution_count": 25,
   "id": "09f2aec0-7b3d-44d6-ab1c-b42af124a748",
   "metadata": {},
   "outputs": [],
   "source": [
    "REQUIRED_DISTANCE = 10"
   ]
  },
  {
   "cell_type": "code",
   "execution_count": 26,
   "id": "57dca47c-aae6-45ff-a0a0-8e16a1a1ebfd",
   "metadata": {},
   "outputs": [
    {
     "name": "stdout",
     "output_type": "stream",
     "text": [
      "From 0 within 10: [0, 1]\n",
      "From 1 within 10: [0, 1, 2]\n",
      "From 2 within 10: [1, 2, 3, 5]\n",
      "From 3 within 10: [2, 3]\n",
      "From 4 within 10: [4, 5]\n",
      "From 5 within 10: [2, 4, 5]\n"
     ]
    }
   ],
   "source": [
    "for s_idx, cities in enumerate(dist):\n",
    "    in_distance_cities = []\n",
    "    for idx, city in enumerate(cities):\n",
    "        if city <= REQUIRED_DISTANCE:\n",
    "            in_distance_cities.append(idx)\n",
    "\n",
    "    print(f'From {s_idx} within {REQUIRED_DISTANCE}: {in_distance_cities}')\n",
    "\n",
    "    m.addConstr(sum([X[i] for i in in_distance_cities]) >= 1, name=f\"in_distance_for_city_{s_idx}\")"
   ]
  },
  {
   "cell_type": "markdown",
   "id": "e177f7c2-30ca-4d69-b5b3-cd560194ff03",
   "metadata": {},
   "source": [
    "## Set Objective"
   ]
  },
  {
   "cell_type": "code",
   "execution_count": 27,
   "id": "9c5cc409-1501-4bac-ac13-8cc7738c42d3",
   "metadata": {},
   "outputs": [],
   "source": [
    "m.setObjective(sum([X[i] for i in range(len(dist))]), sense=gp.GRB.MINIMIZE)"
   ]
  },
  {
   "cell_type": "markdown",
   "id": "3f445199-5aee-48fc-a59f-0f7afdbd4472",
   "metadata": {},
   "source": [
    "## Solve"
   ]
  },
  {
   "cell_type": "code",
   "execution_count": 28,
   "id": "d97baab8-c932-4b89-8bd7-3e5c720a1774",
   "metadata": {},
   "outputs": [
    {
     "name": "stdout",
     "output_type": "stream",
     "text": [
      "Gurobi Optimizer version 12.0.1 build v12.0.1rc0 (armlinux64 - \"Debian GNU/Linux 11 (bullseye)\")\n",
      "\n",
      "CPU model: ARM64\n",
      "Thread count: 12 physical cores, 12 logical processors, using up to 12 threads\n",
      "\n",
      "Optimize a model with 6 rows, 6 columns and 16 nonzeros\n",
      "Model fingerprint: 0xf408acce\n",
      "Variable types: 0 continuous, 6 integer (6 binary)\n",
      "Coefficient statistics:\n",
      "  Matrix range     [1e+00, 1e+00]\n",
      "  Objective range  [1e+00, 1e+00]\n",
      "  Bounds range     [1e+00, 1e+00]\n",
      "  RHS range        [1e+00, 1e+00]\n",
      "Found heuristic solution: objective 3.0000000\n",
      "Presolve removed 6 rows and 6 columns\n",
      "Presolve time: 0.00s\n",
      "Presolve: All rows and columns removed\n",
      "\n",
      "Explored 0 nodes (0 simplex iterations) in 0.01 seconds (0.00 work units)\n",
      "Thread count was 1 (of 12 available processors)\n",
      "\n",
      "Solution count 1: 3 \n",
      "\n",
      "Optimal solution found (tolerance 1.00e-04)\n",
      "Best objective 3.000000000000e+00, best bound 3.000000000000e+00, gap 0.0000%\n"
     ]
    }
   ],
   "source": [
    "m.optimize()"
   ]
  },
  {
   "cell_type": "markdown",
   "id": "604a13f5-6e22-4269-a79b-069dd3b56940",
   "metadata": {},
   "source": [
    "## Result"
   ]
  },
  {
   "cell_type": "code",
   "execution_count": 29,
   "id": "59371e48-99aa-4216-ac1a-438acbcddd12",
   "metadata": {},
   "outputs": [
    {
     "data": {
      "text/plain": [
       "3.0"
      ]
     },
     "execution_count": 29,
     "metadata": {},
     "output_type": "execute_result"
    }
   ],
   "source": [
    "m.objVal"
   ]
  },
  {
   "cell_type": "code",
   "execution_count": 30,
   "id": "86e3758d-51c5-4037-8ab7-336bf0c1f39c",
   "metadata": {},
   "outputs": [
    {
     "data": {
      "text/plain": [
       "[<gurobi.Var cities[0] (value 0.0)>,\n",
       " <gurobi.Var cities[1] (value 1.0)>,\n",
       " <gurobi.Var cities[2] (value 1.0)>,\n",
       " <gurobi.Var cities[3] (value 0.0)>,\n",
       " <gurobi.Var cities[4] (value 0.0)>,\n",
       " <gurobi.Var cities[5] (value 1.0)>]"
      ]
     },
     "execution_count": 30,
     "metadata": {},
     "output_type": "execute_result"
    }
   ],
   "source": [
    "m.getVars()"
   ]
  },
  {
   "cell_type": "code",
   "execution_count": null,
   "id": "792a8301-8433-4348-9d15-9f87d2f21cff",
   "metadata": {},
   "outputs": [],
   "source": []
  }
 ],
 "metadata": {
  "kernelspec": {
   "display_name": "Python 3 (ipykernel)",
   "language": "python",
   "name": "python3"
  },
  "language_info": {
   "codemirror_mode": {
    "name": "ipython",
    "version": 3
   },
   "file_extension": ".py",
   "mimetype": "text/x-python",
   "name": "python",
   "nbconvert_exporter": "python",
   "pygments_lexer": "ipython3",
   "version": "3.10.16"
  }
 },
 "nbformat": 4,
 "nbformat_minor": 5
}
